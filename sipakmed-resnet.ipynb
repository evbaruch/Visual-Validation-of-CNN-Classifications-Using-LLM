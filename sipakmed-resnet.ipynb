{
 "cells": [
  {
   "cell_type": "code",
   "execution_count": 1,
   "metadata": {
    "execution": {
     "iopub.execute_input": "2025-05-12T19:11:33.717823Z",
     "iopub.status.busy": "2025-05-12T19:11:33.717556Z",
     "iopub.status.idle": "2025-05-12T19:11:41.461039Z",
     "shell.execute_reply": "2025-05-12T19:11:41.460431Z",
     "shell.execute_reply.started": "2025-05-12T19:11:33.717787Z"
    },
    "trusted": true
   },
   "outputs": [],
   "source": [
    "# ===============================\n",
    "# 1. Import Required Libraries\n",
    "# ===============================\n",
    "import os\n",
    "import numpy as np\n",
    "import torch\n",
    "import torch.nn as nn\n",
    "import torch.optim as optim\n",
    "from torchvision import datasets, models, transforms\n",
    "from torch.utils.data import DataLoader, random_split\n",
    "from sklearn.metrics import accuracy_score, f1_score, precision_score, recall_score\n",
    "import matplotlib.pyplot as plt\n",
    "from tqdm import tqdm\n",
    "\n"
   ]
  },
  {
   "cell_type": "code",
   "execution_count": 3,
   "metadata": {
    "execution": {
     "iopub.execute_input": "2025-05-12T19:11:46.723219Z",
     "iopub.status.busy": "2025-05-12T19:11:46.722979Z",
     "iopub.status.idle": "2025-05-12T19:11:46.807509Z",
     "shell.execute_reply": "2025-05-12T19:11:46.806971Z",
     "shell.execute_reply.started": "2025-05-12T19:11:46.723204Z"
    },
    "trusted": true
   },
   "outputs": [
    {
     "name": "stdout",
     "output_type": "stream",
     "text": [
      "Using device: cuda\n"
     ]
    }
   ],
   "source": [
    "# ===============================\n",
    "# 2. Check Device\n",
    "# ===============================\n",
    "device = torch.device(\"cuda\" if torch.cuda.is_available() else \"cpu\")\n",
    "print(\"Using device:\", device)"
   ]
  },
  {
   "cell_type": "code",
   "execution_count": 4,
   "metadata": {
    "execution": {
     "iopub.execute_input": "2025-05-12T19:11:49.889929Z",
     "iopub.status.busy": "2025-05-12T19:11:49.889654Z",
     "iopub.status.idle": "2025-05-12T19:11:49.895356Z",
     "shell.execute_reply": "2025-05-12T19:11:49.894673Z",
     "shell.execute_reply.started": "2025-05-12T19:11:49.889910Z"
    },
    "trusted": true
   },
   "outputs": [
    {
     "name": "stderr",
     "output_type": "stream",
     "text": [
      "<>:4: SyntaxWarning: invalid escape sequence '\\s'\n",
      "<>:4: SyntaxWarning: invalid escape sequence '\\s'\n",
      "C:\\Users\\yehud\\AppData\\Local\\Temp\\ipykernel_36528\\3529259581.py:4: SyntaxWarning: invalid escape sequence '\\s'\n",
      "  dataset_path = \"data\\source\\CervicalCancer\\JPEG\\CROPPED_modified\"  # Update if different\n"
     ]
    }
   ],
   "source": [
    "# ===============================\n",
    "# 3. Dataset Path and Transforms\n",
    "# ===============================\n",
    "dataset_path = \"data\\source\\CervicalCancer\\JPEG\\CROPPED_modified\"  # Update if different\n",
    "\n",
    "# Data augmentation and normalization\n",
    "data_transforms = {\n",
    "    \"train\": transforms.Compose([\n",
    "        transforms.RandomHorizontalFlip(),\n",
    "        transforms.RandomVerticalFlip(),\n",
    "        transforms.RandomRotation(20),\n",
    "        transforms.RandomResizedCrop(224, scale=(0.8, 1.0)),\n",
    "        transforms.ToTensor(),\n",
    "        transforms.Normalize([0.485, 0.456, 0.406],\n",
    "                             [0.229, 0.224, 0.225])\n",
    "    ]),\n",
    "    \"val_test\": transforms.Compose([\n",
    "        transforms.Resize((224, 224)),\n",
    "        transforms.ToTensor(),\n",
    "        transforms.Normalize([0.485, 0.456, 0.406],\n",
    "                             [0.229, 0.224, 0.225])\n",
    "    ]),\n",
    "}\n"
   ]
  },
  {
   "cell_type": "code",
   "execution_count": 5,
   "metadata": {
    "execution": {
     "iopub.execute_input": "2025-05-12T19:11:53.625600Z",
     "iopub.status.busy": "2025-05-12T19:11:53.625338Z",
     "iopub.status.idle": "2025-05-12T19:12:06.174744Z",
     "shell.execute_reply": "2025-05-12T19:12:06.174207Z",
     "shell.execute_reply.started": "2025-05-12T19:11:53.625580Z"
    },
    "trusted": true
   },
   "outputs": [
    {
     "name": "stdout",
     "output_type": "stream",
     "text": [
      "Dataset size: 24294\n",
      "Number of classes: 5\n",
      "Class names: ['Dyskeratotic', 'Koilocytotic', 'Metaplastic', 'Parabasal', 'Superficial-Intermediate']\n"
     ]
    }
   ],
   "source": [
    "# ===============================\n",
    "# 4. Load Dataset\n",
    "# ===============================\n",
    "full_dataset = datasets.ImageFolder(root=dataset_path, transform=data_transforms[\"train\"])\n",
    "full_dataset_size = len(full_dataset)\n",
    "class_names = full_dataset.classes\n",
    "num_classes = len(class_names)\n",
    "\n",
    "# Split per class to avoid leakage\n",
    "def stratified_split(dataset, train_ratio=0.6, val_ratio=0.2, test_ratio=0.2):\n",
    "    from collections import defaultdict\n",
    "    from torch.utils.data import Subset\n",
    "\n",
    "    class_indices = defaultdict(list)\n",
    "    for idx, (_, label) in enumerate(dataset.samples):\n",
    "        class_indices[label].append(idx)\n",
    "\n",
    "    train_idx, val_idx, test_idx = [], [], []\n",
    "\n",
    "    for indices in class_indices.values():\n",
    "        n_total = len(indices)\n",
    "        n_train = int(train_ratio * n_total)\n",
    "        n_val = int(val_ratio * n_total)\n",
    "\n",
    "        np.random.shuffle(indices)\n",
    "        train_idx += indices[:n_train]\n",
    "        val_idx += indices[n_train:n_train + n_val]\n",
    "        test_idx += indices[n_train + n_val:]\n",
    "\n",
    "    return Subset(dataset, train_idx), Subset(dataset, val_idx), Subset(dataset, test_idx)\n",
    "\n",
    "train_set, val_set, test_set = stratified_split(full_dataset)\n",
    "\n",
    "# Update transforms\n",
    "train_set.dataset.transform = data_transforms[\"train\"]\n",
    "val_set.dataset.transform = data_transforms[\"val_test\"]\n",
    "test_set.dataset.transform = data_transforms[\"val_test\"]\n",
    "\n",
    "# Data loaders\n",
    "batch_size = 32\n",
    "train_loader = DataLoader(train_set, batch_size=batch_size, shuffle=True)\n",
    "val_loader = DataLoader(val_set, batch_size=batch_size, shuffle=False)\n",
    "test_loader = DataLoader(test_set, batch_size=batch_size, shuffle=False)\n",
    "\n",
    "\n",
    "print(f\"Dataset size: {full_dataset_size}\")\n",
    "print(f\"Number of classes: {num_classes}\")\n",
    "print(f\"Class names: {class_names}\")\n"
   ]
  },
  {
   "cell_type": "code",
   "execution_count": 6,
   "metadata": {
    "execution": {
     "iopub.execute_input": "2025-05-12T19:12:11.801951Z",
     "iopub.status.busy": "2025-05-12T19:12:11.801668Z",
     "iopub.status.idle": "2025-05-12T19:12:13.224496Z",
     "shell.execute_reply": "2025-05-12T19:12:13.223666Z",
     "shell.execute_reply.started": "2025-05-12T19:12:11.801916Z"
    },
    "trusted": true
   },
   "outputs": [
    {
     "name": "stderr",
     "output_type": "stream",
     "text": [
      "c:\\Users\\yehud\\VScode\\python\\Visual-Validation-of-CNN-Classifications-Using-LLM\\.venv\\Lib\\site-packages\\torchvision\\models\\_utils.py:208: UserWarning: The parameter 'pretrained' is deprecated since 0.13 and may be removed in the future, please use 'weights' instead.\n",
      "  warnings.warn(\n",
      "c:\\Users\\yehud\\VScode\\python\\Visual-Validation-of-CNN-Classifications-Using-LLM\\.venv\\Lib\\site-packages\\torchvision\\models\\_utils.py:223: UserWarning: Arguments other than a weight enum or `None` for 'weights' are deprecated since 0.13 and may be removed in the future. The current behavior is equivalent to passing `weights=ResNet18_Weights.IMAGENET1K_V1`. You can also use `weights=ResNet18_Weights.DEFAULT` to get the most up-to-date weights.\n",
      "  warnings.warn(msg)\n"
     ]
    }
   ],
   "source": [
    "# ===============================\n",
    "# 5. Define the Model (ResNet50)\n",
    "# ===============================\n",
    "model = models.resnet18(pretrained=True)\n",
    "\n",
    "# Freeze early layers\n",
    "for param in model.parameters():\n",
    "    param.requires_grad = False\n",
    "\n",
    "# Replace classifier for 7-class output\n",
    "model.fc = nn.Sequential(\n",
    "    nn.Linear(model.fc.in_features, 512),\n",
    "    nn.ReLU(),\n",
    "    nn.Dropout(0.5),  # Dropout applied\n",
    "    nn.Linear(512, num_classes)\n",
    ")\n",
    "\n",
    "model = model.to(device)\n",
    "\n"
   ]
  },
  {
   "cell_type": "code",
   "execution_count": 7,
   "metadata": {
    "execution": {
     "iopub.execute_input": "2025-05-12T19:12:17.401283Z",
     "iopub.status.busy": "2025-05-12T19:12:17.400900Z",
     "iopub.status.idle": "2025-05-12T19:12:17.406165Z",
     "shell.execute_reply": "2025-05-12T19:12:17.405524Z",
     "shell.execute_reply.started": "2025-05-12T19:12:17.401256Z"
    },
    "trusted": true
   },
   "outputs": [],
   "source": [
    "# ===============================\n",
    "# 6. Define Loss, Optimizer\n",
    "# ===============================\n",
    "criterion = nn.CrossEntropyLoss()\n",
    "optimizer = optim.Adam(model.parameters(), lr=0.0001, weight_decay=1e-4)  # Weight decay applied\n"
   ]
  },
  {
   "cell_type": "code",
   "execution_count": 8,
   "metadata": {
    "execution": {
     "iopub.execute_input": "2025-05-12T19:12:20.938835Z",
     "iopub.status.busy": "2025-05-12T19:12:20.938379Z",
     "iopub.status.idle": "2025-05-12T19:18:05.890301Z",
     "shell.execute_reply": "2025-05-12T19:18:05.889518Z",
     "shell.execute_reply.started": "2025-05-12T19:12:20.938812Z"
    },
    "trusted": true
   },
   "outputs": [
    {
     "name": "stderr",
     "output_type": "stream",
     "text": [
      "Epoch 1/20: 100%|██████████| 456/456 [00:18<00:00, 24.57it/s]\n"
     ]
    },
    {
     "name": "stdout",
     "output_type": "stream",
     "text": [
      "Epoch 1: Train Loss = 0.8010, Train Acc = 0.7311, Val Loss = 0.4642, Val Acc = 0.8489\n"
     ]
    },
    {
     "name": "stderr",
     "output_type": "stream",
     "text": [
      "Epoch 2/20: 100%|██████████| 456/456 [00:18<00:00, 25.04it/s]\n"
     ]
    },
    {
     "name": "stdout",
     "output_type": "stream",
     "text": [
      "Epoch 2: Train Loss = 0.4688, Train Acc = 0.8396, Val Loss = 0.3543, Val Acc = 0.8775\n"
     ]
    },
    {
     "name": "stderr",
     "output_type": "stream",
     "text": [
      "Epoch 3/20: 100%|██████████| 456/456 [00:17<00:00, 25.38it/s]\n"
     ]
    },
    {
     "name": "stdout",
     "output_type": "stream",
     "text": [
      "Epoch 3: Train Loss = 0.4070, Train Acc = 0.8597, Val Loss = 0.3135, Val Acc = 0.8923\n"
     ]
    },
    {
     "name": "stderr",
     "output_type": "stream",
     "text": [
      "Epoch 4/20: 100%|██████████| 456/456 [00:18<00:00, 24.71it/s]\n"
     ]
    },
    {
     "name": "stdout",
     "output_type": "stream",
     "text": [
      "Epoch 4: Train Loss = 0.3688, Train Acc = 0.8690, Val Loss = 0.2937, Val Acc = 0.9010\n"
     ]
    },
    {
     "name": "stderr",
     "output_type": "stream",
     "text": [
      "Epoch 5/20: 100%|██████████| 456/456 [00:18<00:00, 25.02it/s]\n"
     ]
    },
    {
     "name": "stdout",
     "output_type": "stream",
     "text": [
      "Epoch 5: Train Loss = 0.3469, Train Acc = 0.8764, Val Loss = 0.2786, Val Acc = 0.9026\n"
     ]
    },
    {
     "name": "stderr",
     "output_type": "stream",
     "text": [
      "Epoch 6/20: 100%|██████████| 456/456 [00:18<00:00, 24.77it/s]\n"
     ]
    },
    {
     "name": "stdout",
     "output_type": "stream",
     "text": [
      "Epoch 6: Train Loss = 0.3245, Train Acc = 0.8854, Val Loss = 0.2592, Val Acc = 0.9082\n"
     ]
    },
    {
     "name": "stderr",
     "output_type": "stream",
     "text": [
      "Epoch 7/20: 100%|██████████| 456/456 [00:18<00:00, 24.97it/s]\n"
     ]
    },
    {
     "name": "stdout",
     "output_type": "stream",
     "text": [
      "Epoch 7: Train Loss = 0.3069, Train Acc = 0.8910, Val Loss = 0.2534, Val Acc = 0.9111\n"
     ]
    },
    {
     "name": "stderr",
     "output_type": "stream",
     "text": [
      "Epoch 8/20: 100%|██████████| 456/456 [00:18<00:00, 24.83it/s]\n"
     ]
    },
    {
     "name": "stdout",
     "output_type": "stream",
     "text": [
      "Epoch 8: Train Loss = 0.2946, Train Acc = 0.8969, Val Loss = 0.2398, Val Acc = 0.9166\n"
     ]
    },
    {
     "name": "stderr",
     "output_type": "stream",
     "text": [
      "Epoch 9/20: 100%|██████████| 456/456 [00:18<00:00, 25.03it/s]\n"
     ]
    },
    {
     "name": "stdout",
     "output_type": "stream",
     "text": [
      "Epoch 9: Train Loss = 0.2799, Train Acc = 0.9015, Val Loss = 0.2389, Val Acc = 0.9158\n"
     ]
    },
    {
     "name": "stderr",
     "output_type": "stream",
     "text": [
      "Epoch 10/20: 100%|██████████| 456/456 [00:18<00:00, 25.10it/s]\n"
     ]
    },
    {
     "name": "stdout",
     "output_type": "stream",
     "text": [
      "Epoch 10: Train Loss = 0.2710, Train Acc = 0.9041, Val Loss = 0.2187, Val Acc = 0.9275\n"
     ]
    },
    {
     "name": "stderr",
     "output_type": "stream",
     "text": [
      "Epoch 11/20: 100%|██████████| 456/456 [00:18<00:00, 25.15it/s]\n"
     ]
    },
    {
     "name": "stdout",
     "output_type": "stream",
     "text": [
      "Epoch 11: Train Loss = 0.2518, Train Acc = 0.9107, Val Loss = 0.2141, Val Acc = 0.9263\n"
     ]
    },
    {
     "name": "stderr",
     "output_type": "stream",
     "text": [
      "Epoch 12/20: 100%|██████████| 456/456 [00:18<00:00, 24.35it/s]\n"
     ]
    },
    {
     "name": "stdout",
     "output_type": "stream",
     "text": [
      "Epoch 12: Train Loss = 0.2500, Train Acc = 0.9083, Val Loss = 0.2120, Val Acc = 0.9294\n"
     ]
    },
    {
     "name": "stderr",
     "output_type": "stream",
     "text": [
      "Epoch 13/20: 100%|██████████| 456/456 [00:18<00:00, 24.81it/s]\n"
     ]
    },
    {
     "name": "stdout",
     "output_type": "stream",
     "text": [
      "Epoch 13: Train Loss = 0.2354, Train Acc = 0.9174, Val Loss = 0.2020, Val Acc = 0.9296\n"
     ]
    },
    {
     "name": "stderr",
     "output_type": "stream",
     "text": [
      "Epoch 14/20: 100%|██████████| 456/456 [00:18<00:00, 25.07it/s]\n"
     ]
    },
    {
     "name": "stdout",
     "output_type": "stream",
     "text": [
      "Epoch 14: Train Loss = 0.2300, Train Acc = 0.9181, Val Loss = 0.1971, Val Acc = 0.9314\n"
     ]
    },
    {
     "name": "stderr",
     "output_type": "stream",
     "text": [
      "Epoch 15/20: 100%|██████████| 456/456 [00:19<00:00, 23.97it/s]\n"
     ]
    },
    {
     "name": "stdout",
     "output_type": "stream",
     "text": [
      "Epoch 15: Train Loss = 0.2265, Train Acc = 0.9202, Val Loss = 0.1881, Val Acc = 0.9310\n"
     ]
    },
    {
     "name": "stderr",
     "output_type": "stream",
     "text": [
      "Epoch 16/20: 100%|██████████| 456/456 [00:25<00:00, 18.23it/s]\n"
     ]
    },
    {
     "name": "stdout",
     "output_type": "stream",
     "text": [
      "Epoch 16: Train Loss = 0.2183, Train Acc = 0.9210, Val Loss = 0.1871, Val Acc = 0.9325\n"
     ]
    },
    {
     "name": "stderr",
     "output_type": "stream",
     "text": [
      "Epoch 17/20: 100%|██████████| 456/456 [00:18<00:00, 24.60it/s]\n"
     ]
    },
    {
     "name": "stdout",
     "output_type": "stream",
     "text": [
      "Epoch 17: Train Loss = 0.2140, Train Acc = 0.9245, Val Loss = 0.1758, Val Acc = 0.9380\n"
     ]
    },
    {
     "name": "stderr",
     "output_type": "stream",
     "text": [
      "Epoch 18/20: 100%|██████████| 456/456 [00:18<00:00, 24.24it/s]\n"
     ]
    },
    {
     "name": "stdout",
     "output_type": "stream",
     "text": [
      "Epoch 18: Train Loss = 0.2063, Train Acc = 0.9253, Val Loss = 0.1739, Val Acc = 0.9399\n"
     ]
    },
    {
     "name": "stderr",
     "output_type": "stream",
     "text": [
      "Epoch 19/20: 100%|██████████| 456/456 [00:18<00:00, 24.18it/s]\n"
     ]
    },
    {
     "name": "stdout",
     "output_type": "stream",
     "text": [
      "Epoch 19: Train Loss = 0.1968, Train Acc = 0.9316, Val Loss = 0.1704, Val Acc = 0.9401\n"
     ]
    },
    {
     "name": "stderr",
     "output_type": "stream",
     "text": [
      "Epoch 20/20: 100%|██████████| 456/456 [00:18<00:00, 24.61it/s]\n"
     ]
    },
    {
     "name": "stdout",
     "output_type": "stream",
     "text": [
      "Epoch 20: Train Loss = 0.1897, Train Acc = 0.9320, Val Loss = 0.1648, Val Acc = 0.9424\n"
     ]
    }
   ],
   "source": [
    "# ===============================\n",
    "# 7. Train the Model\n",
    "# ===============================\n",
    "def train_model(model, train_loader, val_loader, epochs=20):\n",
    "    train_loss_log = []\n",
    "    val_loss_log = []\n",
    "\n",
    "    for epoch in range(epochs):\n",
    "        model.train()\n",
    "        running_loss = 0.0\n",
    "        correct_train, total_train = 0, 0\n",
    "\n",
    "        for images, labels in tqdm(train_loader, desc=f\"Epoch {epoch+1}/{epochs}\"):\n",
    "            images, labels = images.to(device), labels.to(device)\n",
    "\n",
    "            optimizer.zero_grad()\n",
    "            outputs = model(images)\n",
    "            loss = criterion(outputs, labels)\n",
    "            loss.backward()\n",
    "            optimizer.step()\n",
    "\n",
    "            running_loss += loss.item()\n",
    "            _, preds = torch.max(outputs, 1)\n",
    "            correct_train += (preds == labels).sum().item()\n",
    "            total_train += labels.size(0)\n",
    "\n",
    "        train_loss = running_loss / len(train_loader)\n",
    "        train_acc = correct_train / total_train\n",
    "\n",
    "        # Validation\n",
    "        model.eval()\n",
    "        val_loss = 0.0\n",
    "        correct_val, total_val = 0, 0\n",
    "\n",
    "        with torch.no_grad():\n",
    "            for images, labels in val_loader:\n",
    "                images, labels = images.to(device), labels.to(device)\n",
    "                outputs = model(images)\n",
    "                loss = criterion(outputs, labels)\n",
    "                val_loss += loss.item()\n",
    "                _, preds = torch.max(outputs, 1)\n",
    "                correct_val += (preds == labels).sum().item()\n",
    "                total_val += labels.size(0)\n",
    "\n",
    "        val_loss /= len(val_loader)\n",
    "        val_acc = correct_val / total_val\n",
    "\n",
    "        # Log\n",
    "        train_loss_log.append(train_loss)\n",
    "        val_loss_log.append(val_loss)\n",
    "\n",
    "        print(f\"Epoch {epoch+1}: Train Loss = {train_loss:.4f}, Train Acc = {train_acc:.4f}, \"\n",
    "              f\"Val Loss = {val_loss:.4f}, Val Acc = {val_acc:.4f}\")\n",
    "\n",
    "    return model, train_loss_log, val_loss_log\n",
    "\n",
    "# Train now\n",
    "model, train_loss_log, val_loss_log = train_model(model, train_loader, val_loader)\n",
    "\n",
    "\n",
    "save_dir = \"data/weights\"\n",
    "os.makedirs(save_dir, exist_ok=True)    # ← make sure the folder is there\n",
    "torch.save(model.state_dict(), os.path.join(save_dir, \"cancer_resnet18_modified.pth\"))\n"
   ]
  },
  {
   "cell_type": "code",
   "execution_count": 9,
   "metadata": {
    "execution": {
     "iopub.execute_input": "2025-05-12T19:18:31.072876Z",
     "iopub.status.busy": "2025-05-12T19:18:31.072092Z",
     "iopub.status.idle": "2025-05-12T19:18:39.029670Z",
     "shell.execute_reply": "2025-05-12T19:18:39.029060Z",
     "shell.execute_reply.started": "2025-05-12T19:18:31.072845Z"
    },
    "trusted": true
   },
   "outputs": [
    {
     "name": "stdout",
     "output_type": "stream",
     "text": [
      "\n",
      "=== Final Test Metrics ===\n",
      "Accuracy: 94.37%\n",
      "F1 Score: 0.9434\n",
      "Precision: 0.9436\n",
      "Recall: 0.9439\n"
     ]
    }
   ],
   "source": [
    "# ===============================\n",
    "# 8. Evaluate on Test Set\n",
    "# ===============================\n",
    "model.eval()\n",
    "y_true, y_pred = [], []\n",
    "\n",
    "with torch.no_grad():\n",
    "    for images, labels in test_loader:\n",
    "        images = images.to(device)\n",
    "        outputs = model(images)\n",
    "        _, preds = torch.max(outputs, 1)\n",
    "        y_true.extend(labels.cpu().numpy())\n",
    "        y_pred.extend(preds.cpu().numpy())\n",
    "\n",
    "# Metrics\n",
    "acc = accuracy_score(y_true, y_pred) * 100\n",
    "f1 = f1_score(y_true, y_pred, average='macro')\n",
    "precision = precision_score(y_true, y_pred, average='macro')\n",
    "recall = recall_score(y_true, y_pred, average='macro')\n",
    "\n",
    "print(\"\\n=== Final Test Metrics ===\")\n",
    "print(f\"Accuracy: {acc:.2f}%\")\n",
    "print(f\"F1 Score: {f1:.4f}\")\n",
    "print(f\"Precision: {precision:.4f}\")\n",
    "print(f\"Recall: {recall:.4f}\")"
   ]
  },
  {
   "cell_type": "code",
   "execution_count": null,
   "metadata": {
    "execution": {
     "iopub.execute_input": "2025-05-10T21:20:59.04211Z",
     "iopub.status.busy": "2025-05-10T21:20:59.041442Z",
     "iopub.status.idle": "2025-05-10T21:29:35.386538Z",
     "shell.execute_reply": "2025-05-10T21:29:35.38575Z",
     "shell.execute_reply.started": "2025-05-10T21:20:59.042086Z"
    },
    "trusted": true
   },
   "outputs": [
    {
     "name": "stdout",
     "output_type": "stream",
     "text": [
      "\n",
      "------ Fold 1/5 ------\n"
     ]
    },
    {
     "name": "stderr",
     "output_type": "stream",
     "text": [
      "c:\\Users\\yehud\\VScode\\python\\Visual-Validation-of-CNN-Classifications-Using-LLM\\.venv\\Lib\\site-packages\\torchvision\\models\\_utils.py:208: UserWarning: The parameter 'pretrained' is deprecated since 0.13 and may be removed in the future, please use 'weights' instead.\n",
      "  warnings.warn(\n",
      "c:\\Users\\yehud\\VScode\\python\\Visual-Validation-of-CNN-Classifications-Using-LLM\\.venv\\Lib\\site-packages\\torchvision\\models\\_utils.py:223: UserWarning: Arguments other than a weight enum or `None` for 'weights' are deprecated since 0.13 and may be removed in the future. The current behavior is equivalent to passing `weights=ResNet50_Weights.IMAGENET1K_V1`. You can also use `weights=ResNet50_Weights.DEFAULT` to get the most up-to-date weights.\n",
      "  warnings.warn(msg)\n",
      "Epoch 1/10: 100%|██████████| 608/608 [00:34<00:00, 17.86it/s]\n"
     ]
    },
    {
     "name": "stdout",
     "output_type": "stream",
     "text": [
      "Epoch 1: Train Loss = 0.6292, Train Acc = 0.7903, Val Loss = 0.3456, Val Acc = 0.8837\n"
     ]
    },
    {
     "name": "stderr",
     "output_type": "stream",
     "text": [
      "Epoch 2/10: 100%|██████████| 608/608 [00:33<00:00, 18.00it/s]\n"
     ]
    },
    {
     "name": "stdout",
     "output_type": "stream",
     "text": [
      "Epoch 2: Train Loss = 0.3880, Train Acc = 0.8629, Val Loss = 0.3006, Val Acc = 0.8932\n"
     ]
    },
    {
     "name": "stderr",
     "output_type": "stream",
     "text": [
      "Epoch 3/10: 100%|██████████| 608/608 [00:33<00:00, 18.09it/s]\n"
     ]
    },
    {
     "name": "stdout",
     "output_type": "stream",
     "text": [
      "Epoch 3: Train Loss = 0.3407, Train Acc = 0.8781, Val Loss = 0.2860, Val Acc = 0.8967\n"
     ]
    },
    {
     "name": "stderr",
     "output_type": "stream",
     "text": [
      "Epoch 4/10: 100%|██████████| 608/608 [00:35<00:00, 17.09it/s]\n"
     ]
    },
    {
     "name": "stdout",
     "output_type": "stream",
     "text": [
      "Epoch 4: Train Loss = 0.3197, Train Acc = 0.8836, Val Loss = 0.2324, Val Acc = 0.9160\n"
     ]
    },
    {
     "name": "stderr",
     "output_type": "stream",
     "text": [
      "Epoch 5/10: 100%|██████████| 608/608 [00:43<00:00, 13.89it/s]\n"
     ]
    },
    {
     "name": "stdout",
     "output_type": "stream",
     "text": [
      "Epoch 5: Train Loss = 0.2986, Train Acc = 0.8929, Val Loss = 0.2346, Val Acc = 0.9146\n"
     ]
    },
    {
     "name": "stderr",
     "output_type": "stream",
     "text": [
      "Epoch 6/10: 100%|██████████| 608/608 [00:42<00:00, 14.44it/s]\n"
     ]
    },
    {
     "name": "stdout",
     "output_type": "stream",
     "text": [
      "Epoch 6: Train Loss = 0.2820, Train Acc = 0.8995, Val Loss = 0.2157, Val Acc = 0.9181\n"
     ]
    },
    {
     "name": "stderr",
     "output_type": "stream",
     "text": [
      "Epoch 7/10: 100%|██████████| 608/608 [00:41<00:00, 14.49it/s]\n"
     ]
    },
    {
     "name": "stdout",
     "output_type": "stream",
     "text": [
      "Epoch 7: Train Loss = 0.2690, Train Acc = 0.9023, Val Loss = 0.2163, Val Acc = 0.9212\n"
     ]
    },
    {
     "name": "stderr",
     "output_type": "stream",
     "text": [
      "Epoch 8/10: 100%|██████████| 608/608 [00:42<00:00, 14.27it/s]\n"
     ]
    },
    {
     "name": "stdout",
     "output_type": "stream",
     "text": [
      "Epoch 8: Train Loss = 0.2564, Train Acc = 0.9090, Val Loss = 0.2009, Val Acc = 0.9255\n"
     ]
    },
    {
     "name": "stderr",
     "output_type": "stream",
     "text": [
      "Epoch 9/10:  62%|██████▏   | 374/608 [00:26<00:18, 12.44it/s]"
     ]
    }
   ],
   "source": [
    "# ===============================\n",
    "# 9. K-fold cross validation\n",
    "# ===============================\n",
    "from sklearn.model_selection import StratifiedKFold\n",
    "from torch.utils.data import Subset\n",
    "import pandas as pd\n",
    "\n",
    "# ===============================\n",
    "# Prepare target labels for stratified sampling\n",
    "# ===============================\n",
    "targets = [sample[1] for sample in full_dataset.samples]\n",
    "targets = np.array(targets)\n",
    "\n",
    "skf = StratifiedKFold(n_splits=5, shuffle=True, random_state=42)\n",
    "fold_metrics = []\n",
    "\n",
    "# ===============================\n",
    "# Cross-validation Loop\n",
    "# ===============================\n",
    "for fold, (train_idx, val_idx) in enumerate(skf.split(np.zeros(len(targets)), targets)):\n",
    "    print(f\"\\n------ Fold {fold + 1}/5 ------\")\n",
    "\n",
    "    # Create Subsets for this fold\n",
    "    train_subset = Subset(full_dataset, train_idx)\n",
    "    val_subset = Subset(full_dataset, val_idx)\n",
    "\n",
    "    # Apply correct transforms\n",
    "    train_subset.dataset.transform = data_transforms[\"train\"]\n",
    "    val_subset.dataset.transform = data_transforms[\"val_test\"]\n",
    "\n",
    "    # Create DataLoaders\n",
    "    train_loader = DataLoader(train_subset, batch_size=batch_size, shuffle=True)\n",
    "    val_loader = DataLoader(val_subset, batch_size=batch_size, shuffle=False)\n",
    "\n",
    "    # ============================\n",
    "    # Define new ResNet50 model\n",
    "    # ============================\n",
    "    model = models.resnet50(pretrained=True)\n",
    "    for param in model.parameters():\n",
    "        param.requires_grad = False\n",
    "\n",
    "    model.fc = nn.Sequential(\n",
    "        nn.Linear(model.fc.in_features, 512),\n",
    "        nn.ReLU(),\n",
    "        nn.Dropout(0.5),\n",
    "        nn.Linear(512, num_classes)\n",
    "    )\n",
    "    model = model.to(device)\n",
    "\n",
    "    # Loss and Optimizer\n",
    "    criterion = nn.CrossEntropyLoss()\n",
    "    optimizer = optim.Adam(model.parameters(), lr=0.0001, weight_decay=1e-4)\n",
    "\n",
    "    # ============================\n",
    "    # Train on this fold\n",
    "    # ============================\n",
    "    model, _, _ = train_model(model, train_loader, val_loader, epochs=10)\n",
    "\n",
    "    # ============================\n",
    "    # Evaluate on this fold\n",
    "    # ============================\n",
    "    model.eval()\n",
    "    y_true, y_pred = [], []\n",
    "\n",
    "    with torch.no_grad():\n",
    "        for images, labels in val_loader:\n",
    "            images = images.to(device)\n",
    "            outputs = model(images)\n",
    "            _, preds = torch.max(outputs, 1)\n",
    "            y_true.extend(labels.numpy())\n",
    "            y_pred.extend(preds.cpu().numpy())\n",
    "\n",
    "    # Metrics\n",
    "    acc = accuracy_score(y_true, y_pred) * 100\n",
    "    f1 = f1_score(y_true, y_pred, average='macro')\n",
    "    precision = precision_score(y_true, y_pred, average='macro')\n",
    "    recall = recall_score(y_true, y_pred, average='macro')\n",
    "\n",
    "    print(f\"Fold {fold + 1} - Accuracy: {acc:.2f}%, F1: {f1:.4f}, Precision: {precision:.4f}, Recall: {recall:.4f}\")\n",
    "    fold_metrics.append([acc, f1, precision, recall])\n",
    "\n",
    "# ===============================\n",
    "# Average Performance Summary\n",
    "# ===============================\n",
    "df = pd.DataFrame(fold_metrics, columns=[\"Accuracy\", \"F1 Score\", \"Precision\", \"Recall\"])\n",
    "print(\"\\n=== Cross-Validation Performance ===\")\n",
    "print(df.mean())\n"
   ]
  },
  {
   "cell_type": "code",
   "execution_count": null,
   "metadata": {
    "execution": {
     "iopub.execute_input": "2025-05-12T19:18:59.096077Z",
     "iopub.status.busy": "2025-05-12T19:18:59.095409Z",
     "iopub.status.idle": "2025-05-12T19:18:59.330960Z",
     "shell.execute_reply": "2025-05-12T19:18:59.330296Z",
     "shell.execute_reply.started": "2025-05-12T19:18:59.096053Z"
    },
    "trusted": true
   },
   "outputs": [
    {
     "data": {
      "image/png": "[encoded data removed]",
      "text/plain": [
       "<Figure size 1000x600 with 1 Axes>"
      ]
     },
     "metadata": {},
     "output_type": "display_data"
    }
   ],
   "source": [
    "# ===============================\n",
    "# 10. Plot Loss Curve\n",
    "# ===============================\n",
    "def plot_loss_curves(train_log, val_log):\n",
    "    plt.figure(figsize=(10, 6))\n",
    "    plt.plot(train_log, label='Train Loss', marker='o')\n",
    "    plt.plot(val_log, label='Validation Loss', marker='x')\n",
    "    plt.title(\"Training vs Validation Loss Curve\")\n",
    "    plt.xlabel(\"Epoch\")\n",
    "    plt.ylabel(\"Loss\")\n",
    "    plt.legend()\n",
    "    plt.grid(True)\n",
    "    plt.tight_layout()\n",
    "    plt.show()\n",
    "\n",
    "plot_loss_curves(train_loss_log, val_loss_log)\n"
   ]
  }
 ],
 "metadata": {
  "kaggle": {
   "accelerator": "nvidiaTeslaT4",
   "dataSources": [
    {
     "datasetId": 7383737,
     "sourceId": 11761567,
     "sourceType": "datasetVersion"
    }
   ],
   "dockerImageVersionId": 31011,
   "isGpuEnabled": true,
   "isInternetEnabled": true,
   "language": "python",
   "sourceType": "notebook"
  },
  "kernelspec": {
   "display_name": ".venv (3.13.2)",
   "language": "python",
   "name": "python3"
  },
  "language_info": {
   "codemirror_mode": {
    "name": "ipython",
    "version": 3
   },
   "file_extension": ".py",
   "mimetype": "text/x-python",
   "name": "python",
   "nbconvert_exporter": "python",
   "pygments_lexer": "ipython3",
   "version": "3.13.2"
  }
 },
 "nbformat": 4,
 "nbformat_minor": 4
}
